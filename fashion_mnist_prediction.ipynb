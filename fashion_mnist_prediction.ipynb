{
  "nbformat": 4,
  "nbformat_minor": 0,
  "metadata": {
    "colab": {
      "name": "fashion_mnist prediction",
      "provenance": [],
      "collapsed_sections": [],
      "authorship_tag": "ABX9TyMrnVy3GU0IlBexJn4yLsJZ",
      "include_colab_link": true
    },
    "kernelspec": {
      "name": "python3",
      "display_name": "Python 3"
    },
    "language_info": {
      "name": "python"
    }
  },
  "cells": [
    {
      "cell_type": "markdown",
      "metadata": {
        "id": "view-in-github",
        "colab_type": "text"
      },
      "source": [
        "<a href=\"https://colab.research.google.com/github/Perception12/fashion_mnist_prediction/blob/main/fashion_mnist_prediction.ipynb\" target=\"_parent\"><img src=\"https://colab.research.google.com/assets/colab-badge.svg\" alt=\"Open In Colab\"/></a>"
      ]
    },
    {
      "cell_type": "code",
      "execution_count": 1,
      "metadata": {
        "id": "IIz6r4d1ZWxl"
      },
      "outputs": [],
      "source": [
        "from keras.datasets import fashion_mnist"
      ]
    },
    {
      "cell_type": "code",
      "source": [
        "(X_train, y_train), (X_test, y_test) = fashion_mnist.load_data()"
      ],
      "metadata": {
        "id": "FLv-pzPyZfij"
      },
      "execution_count": 39,
      "outputs": []
    },
    {
      "cell_type": "code",
      "source": [
        "import numpy as np\n",
        "import matplotlib.pyplot as plt\n",
        "from tensorflow.keras.utils import to_categorical\n",
        "\n",
        "%matplotlib inline"
      ],
      "metadata": {
        "id": "a_iROWq7aLs4"
      },
      "execution_count": 8,
      "outputs": []
    },
    {
      "cell_type": "code",
      "source": [
        "print(X_train.shape)\n",
        "print(y_train.shape)"
      ],
      "metadata": {
        "colab": {
          "base_uri": "https://localhost:8080/"
        },
        "id": "JnR-mhXzad0J",
        "outputId": "650535ab-67e0-4d83-fd3f-71af77ab032d"
      },
      "execution_count": 9,
      "outputs": [
        {
          "output_type": "stream",
          "name": "stdout",
          "text": [
            "(60000, 28, 28)\n",
            "(60000,)\n"
          ]
        }
      ]
    },
    {
      "cell_type": "code",
      "source": [
        "print(X_test.shape)\n",
        "print(y_test.shape)"
      ],
      "metadata": {
        "colab": {
          "base_uri": "https://localhost:8080/"
        },
        "id": "9kKOdYFvent6",
        "outputId": "ac02dfd7-70a7-474d-a5ef-06ce49c3d0ba"
      },
      "execution_count": 10,
      "outputs": [
        {
          "output_type": "stream",
          "name": "stdout",
          "text": [
            "(10000, 28, 28)\n",
            "(10000,)\n"
          ]
        }
      ]
    },
    {
      "cell_type": "code",
      "source": [
        "classes = np.unique(y_train)\n",
        "nClasses = len(classes)\n",
        "\n",
        "print(\"Total number of outputs: {}\".format(nClasses))\n",
        "print(\"Output classes: {}\".format(classes))"
      ],
      "metadata": {
        "colab": {
          "base_uri": "https://localhost:8080/"
        },
        "id": "vsquZ-sqeyMA",
        "outputId": "3f5e89cf-5447-433a-b03d-01ae28f36450"
      },
      "execution_count": 11,
      "outputs": [
        {
          "output_type": "stream",
          "name": "stdout",
          "text": [
            "Total number of outputs: 10\n",
            "Output classes: [0 1 2 3 4 5 6 7 8 9]\n"
          ]
        }
      ]
    },
    {
      "cell_type": "code",
      "source": [
        "plt.figure(figsize=(5,5))\n",
        "\n",
        "#Display first image in training data\n",
        "plt.subplot(1,2,1)\n",
        "plt.imshow(X_train[0,:,:], cmap='gray')\n",
        "plt.title(\"Ground Truth: {}\".format(y_train[0]))\n",
        "\n",
        "#Display the first image of test data\n",
        "plt.subplot(1,2,2)\n",
        "plt.imshow(X_test[0,:,:], cmap='gray')\n",
        "plt.title(\"Ground Truth: {}\".format(y_test[0]))"
      ],
      "metadata": {
        "colab": {
          "base_uri": "https://localhost:8080/",
          "height": 208
        },
        "id": "ZJPsoiakfnXT",
        "outputId": "11457581-db3b-415c-edc2-756d8d4d54db"
      },
      "execution_count": 13,
      "outputs": [
        {
          "output_type": "execute_result",
          "data": {
            "text/plain": [
              "Text(0.5, 1.0, 'Ground Truth: 9')"
            ]
          },
          "metadata": {},
          "execution_count": 13
        },
        {
          "output_type": "display_data",
          "data": {
            "text/plain": [
              "<Figure size 360x360 with 2 Axes>"
            ],
            "image/png": "[encoded data removed]"
          },
          "metadata": {
            "needs_background": "light"
          }
        }
      ]
    },
    {
      "cell_type": "code",
      "source": [
        "X_train = X_train.reshape(-1, 28, 28, 1)\n",
        "X_test = X_test.reshape(-1, 28, 28, 1)"
      ],
      "metadata": {
        "id": "TP03OIDfgoCo"
      },
      "execution_count": 40,
      "outputs": []
    },
    {
      "cell_type": "code",
      "source": [
        "print(X_train.shape)\n",
        "print(X_test.shape)"
      ],
      "metadata": {
        "colab": {
          "base_uri": "https://localhost:8080/"
        },
        "id": "mWh9xhath0vx",
        "outputId": "135aa427-e388-4c3a-f213-6ddc1c190e63"
      },
      "execution_count": 16,
      "outputs": [
        {
          "output_type": "stream",
          "name": "stdout",
          "text": [
            "(60000, 28, 28, 1)\n",
            "(10000, 28, 28, 1)\n"
          ]
        }
      ]
    },
    {
      "cell_type": "code",
      "source": [
        "X_train = X_train.astype('float32')\n",
        "X_test = X_test.astype('float32')\n",
        "X_train = X_train / 255\n",
        "X_test = X_test / 255"
      ],
      "metadata": {
        "id": "PSt3mk0Ch8Le"
      },
      "execution_count": 41,
      "outputs": []
    },
    {
      "cell_type": "code",
      "source": [
        "# one-hot encoding of labels\n",
        "y_train_one_hot = to_categorical(y_train)\n",
        "y_test_one_hot = to_categorical(y_test)"
      ],
      "metadata": {
        "id": "OJMiK-G1iaG4"
      },
      "execution_count": 42,
      "outputs": []
    },
    {
      "cell_type": "code",
      "source": [
        "print(\"Original label: {}\".format(y_train[0]))\n",
        "print(\"Encoded label: {}\".format(y_train_one_hot[0]))"
      ],
      "metadata": {
        "colab": {
          "base_uri": "https://localhost:8080/"
        },
        "id": "FFXtwG_VjQ0b",
        "outputId": "ba5104e5-d21d-4c17-94b4-cf82538fd037"
      },
      "execution_count": 23,
      "outputs": [
        {
          "output_type": "stream",
          "name": "stdout",
          "text": [
            "Original label: 9\n",
            "Encoded label: [0. 0. 0. 0. 0. 0. 0. 0. 0. 1.]\n"
          ]
        }
      ]
    },
    {
      "cell_type": "code",
      "source": [
        "from sklearn.model_selection import train_test_split"
      ],
      "metadata": {
        "id": "5Mdb7pnPkKs6"
      },
      "execution_count": 25,
      "outputs": []
    },
    {
      "cell_type": "code",
      "source": [
        "X_train, X_val, label_train, label_val = train_test_split(X_train, y_train_one_hot, test_size=0.2, random_state=101)"
      ],
      "metadata": {
        "id": "2qcxO2Vtjwr5"
      },
      "execution_count": 43,
      "outputs": []
    },
    {
      "cell_type": "code",
      "source": [
        "X_train.shape, X_val.shape, label_train.shape, label_val.shape"
      ],
      "metadata": {
        "colab": {
          "base_uri": "https://localhost:8080/"
        },
        "id": "YB9-r1dMkfI3",
        "outputId": "7e36ddaa-7253-4aa8-e0ee-80d031651e96"
      },
      "execution_count": 44,
      "outputs": [
        {
          "output_type": "execute_result",
          "data": {
            "text/plain": [
              "((48000, 28, 28, 1), (12000, 28, 28, 1), (48000, 10), (12000, 10))"
            ]
          },
          "metadata": {},
          "execution_count": 44
        }
      ]
    },
    {
      "cell_type": "code",
      "source": [
        "import keras\n",
        "from keras.models import Sequential, Input, Model\n",
        "from keras.layers import Dense, Flatten, Dropout\n",
        "from keras.layers import Conv2D, MaxPooling2D\n",
        "from keras.layers.normalization import batch_normalization\n",
        "from keras.layers.advanced_activations import LeakyReLU"
      ],
      "metadata": {
        "id": "QPpKIlbwkmBR"
      },
      "execution_count": 30,
      "outputs": []
    },
    {
      "cell_type": "code",
      "source": [
        "batch_size = 64\n",
        "epochs = 20\n",
        "num_classes = 10"
      ],
      "metadata": {
        "id": "hpBEUoWcmFo9"
      },
      "execution_count": 57,
      "outputs": []
    },
    {
      "cell_type": "code",
      "source": [
        "model = Sequential()\n",
        "\n",
        "model.add(Conv2D(32, kernel_size=(3,3), activation='linear', input_shape=(28, 28, 1), padding='same'))\n",
        "model.add(LeakyReLU(alpha=0.1))\n",
        "model.add(MaxPooling2D((2,2), padding='same'))\n",
        "model.add(Dropout(0.25))\n",
        "model.add(Conv2D(64, (3,3), activation='linear', padding='same'))\n",
        "model.add(LeakyReLU(alpha=0.1))\n",
        "model.add(MaxPooling2D((2,2), padding='same'))\n",
        "model.add(Dropout(0.25))\n",
        "model.add(Conv2D(128, (3,3), activation='linear', padding='same'))\n",
        "model.add(LeakyReLU(alpha=0.1))\n",
        "model.add(MaxPooling2D((2,2), padding='same'))\n",
        "model.add(Dropout(0.4))\n",
        "model.add(Flatten())\n",
        "model.add(Dense(128, activation='linear'))\n",
        "model.add(LeakyReLU(alpha=0.1))\n",
        "model.add(Dropout(0.3))\n",
        "\n",
        "model.add(Dense(num_classes, activation='softmax'))\n",
        "\n",
        "model.compile(loss=keras.losses.categorical_crossentropy, optimizer='adam', metrics=['accuracy'])"
      ],
      "metadata": {
        "id": "l4viMrqTmdeq"
      },
      "execution_count": 58,
      "outputs": []
    },
    {
      "cell_type": "code",
      "source": [
        "model.summary()"
      ],
      "metadata": {
        "colab": {
          "base_uri": "https://localhost:8080/"
        },
        "id": "NQu2upsqpI0O",
        "outputId": "c0f39938-2d8f-47aa-f7cf-57cab9a43717"
      },
      "execution_count": 59,
      "outputs": [
        {
          "output_type": "stream",
          "name": "stdout",
          "text": [
            "Model: \"sequential_5\"\n",
            "_________________________________________________________________\n",
            " Layer (type)                Output Shape              Param #   \n",
            "=================================================================\n",
            " conv2d_15 (Conv2D)          (None, 28, 28, 32)        320       \n",
            "                                                                 \n",
            " leaky_re_lu_20 (LeakyReLU)  (None, 28, 28, 32)        0         \n",
            "                                                                 \n",
            " max_pooling2d_15 (MaxPoolin  (None, 14, 14, 32)       0         \n",
            " g2D)                                                            \n",
            "                                                                 \n",
            " dropout_4 (Dropout)         (None, 14, 14, 32)        0         \n",
            "                                                                 \n",
            " conv2d_16 (Conv2D)          (None, 14, 14, 64)        18496     \n",
            "                                                                 \n",
            " leaky_re_lu_21 (LeakyReLU)  (None, 14, 14, 64)        0         \n",
            "                                                                 \n",
            " max_pooling2d_16 (MaxPoolin  (None, 7, 7, 64)         0         \n",
            " g2D)                                                            \n",
            "                                                                 \n",
            " dropout_5 (Dropout)         (None, 7, 7, 64)          0         \n",
            "                                                                 \n",
            " conv2d_17 (Conv2D)          (None, 7, 7, 128)         73856     \n",
            "                                                                 \n",
            " leaky_re_lu_22 (LeakyReLU)  (None, 7, 7, 128)         0         \n",
            "                                                                 \n",
            " max_pooling2d_17 (MaxPoolin  (None, 4, 4, 128)        0         \n",
            " g2D)                                                            \n",
            "                                                                 \n",
            " dropout_6 (Dropout)         (None, 4, 4, 128)         0         \n",
            "                                                                 \n",
            " flatten_5 (Flatten)         (None, 2048)              0         \n",
            "                                                                 \n",
            " dense_10 (Dense)            (None, 128)               262272    \n",
            "                                                                 \n",
            " leaky_re_lu_23 (LeakyReLU)  (None, 128)               0         \n",
            "                                                                 \n",
            " dropout_7 (Dropout)         (None, 128)               0         \n",
            "                                                                 \n",
            " dense_11 (Dense)            (None, 10)                1290      \n",
            "                                                                 \n",
            "=================================================================\n",
            "Total params: 356,234\n",
            "Trainable params: 356,234\n",
            "Non-trainable params: 0\n",
            "_________________________________________________________________\n"
          ]
        }
      ]
    },
    {
      "cell_type": "code",
      "source": [
        "fashion_train = model.fit(X_train, label_train, batch_size=batch_size, epochs=epochs, validation_data=(X_val, label_val))"
      ],
      "metadata": {
        "colab": {
          "base_uri": "https://localhost:8080/"
        },
        "id": "tHBdpjy1p_8s",
        "outputId": "0f00c915-a09b-4e45-ae5d-3dd3048e5e23"
      },
      "execution_count": 60,
      "outputs": [
        {
          "output_type": "stream",
          "name": "stdout",
          "text": [
            "Epoch 1/20\n",
            "750/750 [==============================] - 95s 126ms/step - loss: 0.6096 - accuracy: 0.7714 - val_loss: 0.3707 - val_accuracy: 0.8614\n",
            "Epoch 2/20\n",
            "750/750 [==============================] - 95s 127ms/step - loss: 0.3789 - accuracy: 0.8609 - val_loss: 0.3016 - val_accuracy: 0.8879\n",
            "Epoch 3/20\n",
            "750/750 [==============================] - 95s 126ms/step - loss: 0.3330 - accuracy: 0.8783 - val_loss: 0.2670 - val_accuracy: 0.9057\n",
            "Epoch 4/20\n",
            "750/750 [==============================] - 95s 126ms/step - loss: 0.3038 - accuracy: 0.8874 - val_loss: 0.2460 - val_accuracy: 0.9094\n",
            "Epoch 5/20\n",
            "750/750 [==============================] - 95s 126ms/step - loss: 0.2849 - accuracy: 0.8963 - val_loss: 0.2403 - val_accuracy: 0.9096\n",
            "Epoch 6/20\n",
            "750/750 [==============================] - 95s 127ms/step - loss: 0.2673 - accuracy: 0.8996 - val_loss: 0.2276 - val_accuracy: 0.9164\n",
            "Epoch 7/20\n",
            "750/750 [==============================] - 95s 127ms/step - loss: 0.2579 - accuracy: 0.9039 - val_loss: 0.2217 - val_accuracy: 0.9158\n",
            "Epoch 8/20\n",
            "750/750 [==============================] - 95s 126ms/step - loss: 0.2487 - accuracy: 0.9072 - val_loss: 0.2136 - val_accuracy: 0.9223\n",
            "Epoch 9/20\n",
            "750/750 [==============================] - 94s 126ms/step - loss: 0.2384 - accuracy: 0.9116 - val_loss: 0.2118 - val_accuracy: 0.9208\n",
            "Epoch 10/20\n",
            "750/750 [==============================] - 95s 126ms/step - loss: 0.2358 - accuracy: 0.9122 - val_loss: 0.2211 - val_accuracy: 0.9183\n",
            "Epoch 11/20\n",
            "750/750 [==============================] - 96s 127ms/step - loss: 0.2265 - accuracy: 0.9146 - val_loss: 0.2064 - val_accuracy: 0.9232\n",
            "Epoch 12/20\n",
            "750/750 [==============================] - 95s 127ms/step - loss: 0.2214 - accuracy: 0.9170 - val_loss: 0.2052 - val_accuracy: 0.9233\n",
            "Epoch 13/20\n",
            "750/750 [==============================] - 95s 127ms/step - loss: 0.2218 - accuracy: 0.9164 - val_loss: 0.1968 - val_accuracy: 0.9277\n",
            "Epoch 14/20\n",
            "750/750 [==============================] - 95s 126ms/step - loss: 0.2124 - accuracy: 0.9197 - val_loss: 0.2049 - val_accuracy: 0.9222\n",
            "Epoch 15/20\n",
            "750/750 [==============================] - 95s 127ms/step - loss: 0.2105 - accuracy: 0.9202 - val_loss: 0.2048 - val_accuracy: 0.9298\n",
            "Epoch 16/20\n",
            "750/750 [==============================] - 95s 127ms/step - loss: 0.2050 - accuracy: 0.9224 - val_loss: 0.1932 - val_accuracy: 0.9285\n",
            "Epoch 17/20\n",
            "750/750 [==============================] - 95s 127ms/step - loss: 0.2032 - accuracy: 0.9232 - val_loss: 0.2025 - val_accuracy: 0.9289\n",
            "Epoch 18/20\n",
            "750/750 [==============================] - 95s 127ms/step - loss: 0.2039 - accuracy: 0.9226 - val_loss: 0.2076 - val_accuracy: 0.9239\n",
            "Epoch 19/20\n",
            "750/750 [==============================] - 95s 127ms/step - loss: 0.2006 - accuracy: 0.9230 - val_loss: 0.2022 - val_accuracy: 0.9287\n",
            "Epoch 20/20\n",
            "750/750 [==============================] - 95s 127ms/step - loss: 0.1953 - accuracy: 0.9251 - val_loss: 0.1990 - val_accuracy: 0.9309\n"
          ]
        }
      ]
    },
    {
      "cell_type": "code",
      "source": [
        "test_loss, test_accuracy = model.evaluate(X_test, y_test_one_hot, verbose=0)"
      ],
      "metadata": {
        "id": "K8sEmqF0voFq"
      },
      "execution_count": 61,
      "outputs": []
    },
    {
      "cell_type": "code",
      "source": [
        "print(\"Test Loss: \", test_loss)\n",
        "print(\"Test Accuracy: \", test_accuracy)"
      ],
      "metadata": {
        "colab": {
          "base_uri": "https://localhost:8080/"
        },
        "id": "ZxPmYIvr2rDb",
        "outputId": "c37d7e04-7cc6-4548-b7ac-8308e51cc713"
      },
      "execution_count": 62,
      "outputs": [
        {
          "output_type": "stream",
          "name": "stdout",
          "text": [
            "Test Loss:  0.222161203622818\n",
            "Test Accuracy:  0.9222000241279602\n"
          ]
        }
      ]
    },
    {
      "cell_type": "code",
      "source": [
        "accuracy = fashion_train.history['accuracy']\n",
        "val_accuracy = fashion_train.history['val_accuracy']\n",
        "loss = fashion_train.history['loss']\n",
        "val_loss = fashion_train.history['val_loss']\n",
        "epochs = range(len(accuracy))\n",
        "\n",
        "plt.plot(epochs, accuracy, 'b', label=\"Training Accuracy\")\n",
        "plt.plot(epochs, val_accuracy, 'r', label = \"Validation Accuracy\")\n",
        "plt.title(\"Training and Validation Accuracy\")\n",
        "plt.legend()\n",
        "\n",
        "plt.figure()\n",
        "\n",
        "plt.plot(epochs, loss, 'r', label=\"Training Loss\")\n",
        "plt.plot(epochs, val_loss, 'b', label=\"Validation Loss\")\n",
        "plt.title(\"Training and Validation Loss\")\n",
        "plt.legend()\n"
      ],
      "metadata": {
        "colab": {
          "base_uri": "https://localhost:8080/",
          "height": 562
        },
        "id": "8uFqON0L276i",
        "outputId": "3adff03f-6e42-4a08-cefc-ad7b1e2eafc8"
      },
      "execution_count": 63,
      "outputs": [
        {
          "output_type": "execute_result",
          "data": {
            "text/plain": [
              "<matplotlib.legend.Legend at 0x7f09c54ed1d0>"
            ]
          },
          "metadata": {},
          "execution_count": 63
        },
        {
          "output_type": "display_data",
          "data": {
            "text/plain": [
              "<Figure size 432x288 with 1 Axes>"
            ],
            "image/png": "[encoded data removed]"
          },
          "metadata": {
            "needs_background": "light"
          }
        },
        {
          "output_type": "display_data",
          "data": {
            "text/plain": [
              "<Figure size 432x288 with 1 Axes>"
            ],
            "image/png": "[encoded data removed]"
          },
          "metadata": {
            "needs_background": "light"
          }
        }
      ]
    },
    {
      "cell_type": "code",
      "source": [
        "predicted_classes = model.predict(X_test)"
      ],
      "metadata": {
        "id": "O3mId1Rh4IYa"
      },
      "execution_count": 64,
      "outputs": []
    },
    {
      "cell_type": "code",
      "source": [
        "predicted_classes = np.argmax(np.round(predicted_classes), axis=1)"
      ],
      "metadata": {
        "id": "DlxrnfekBRVV"
      },
      "execution_count": 65,
      "outputs": []
    },
    {
      "cell_type": "code",
      "source": [
        "predicted_classes.shape, y_test.shape"
      ],
      "metadata": {
        "colab": {
          "base_uri": "https://localhost:8080/"
        },
        "id": "PiP9YFMPBgsP",
        "outputId": "c372676b-a370-410e-957a-45791c3daab7"
      },
      "execution_count": 66,
      "outputs": [
        {
          "output_type": "execute_result",
          "data": {
            "text/plain": [
              "((10000,), (10000,))"
            ]
          },
          "metadata": {},
          "execution_count": 66
        }
      ]
    },
    {
      "cell_type": "code",
      "source": [
        "correct = np.where(predicted_classes == y_test)[0]\n",
        "print(\"Found {} correct labels\".format(len(correct)))"
      ],
      "metadata": {
        "colab": {
          "base_uri": "https://localhost:8080/"
        },
        "id": "6be0ha-cBlJc",
        "outputId": "3e3e7c42-459d-4af3-efa9-b1ccc2a119d0"
      },
      "execution_count": 68,
      "outputs": [
        {
          "output_type": "stream",
          "name": "stdout",
          "text": [
            "Found 9188 correct labels\n"
          ]
        }
      ]
    },
    {
      "cell_type": "code",
      "source": [
        "for i, correct in enumerate(correct[:9]):\n",
        "  plt.subplot(3,3,i+1)\n",
        "  plt.imshow(X_test[correct].reshape(28,28), cmap='gray', interpolation='none')\n",
        "  plt.title(\"Predicted {}, class {}\".format(predicted_classes[correct], y_test[correct]))\n",
        "  plt.tight_layout()"
      ],
      "metadata": {
        "colab": {
          "base_uri": "https://localhost:8080/",
          "height": 297
        },
        "id": "wZSZ37zUB0OP",
        "outputId": "f5043c6e-9b74-44b4-c48c-789796cf3df5"
      },
      "execution_count": 69,
      "outputs": [
        {
          "output_type": "display_data",
          "data": {
            "text/plain": [
              "<Figure size 432x288 with 9 Axes>"
            ],
            "image/png": "[encoded data removed]"
          },
          "metadata": {
            "needs_background": "light"
          }
        }
      ]
    },
    {
      "cell_type": "code",
      "source": [
        "incorrect = np.where(predicted_classes != y_test)[0]\n",
        "print(\"Found {} incorrect labels\".format(len(incorrect)))"
      ],
      "metadata": {
        "colab": {
          "base_uri": "https://localhost:8080/"
        },
        "id": "NU5KO9WsC5IW",
        "outputId": "012c2970-6b11-4479-cf7e-0b40eb3a3542"
      },
      "execution_count": 71,
      "outputs": [
        {
          "output_type": "stream",
          "name": "stdout",
          "text": [
            "Found 812 incorrect labels\n"
          ]
        }
      ]
    },
    {
      "cell_type": "code",
      "source": [
        "for i, incorrect in enumerate(incorrect[:9]):\n",
        "  plt.subplot(3,3,i+1)\n",
        "  plt.imshow(X_test[incorrect].reshape(28,28), cmap='gray', interpolation='none')\n",
        "  plt.title(\"Predicted {}, class {}\".format(predicted_classes[incorrect], y_test[incorrect]))\n",
        "  plt.tight_layout()"
      ],
      "metadata": {
        "colab": {
          "base_uri": "https://localhost:8080/",
          "height": 297
        },
        "id": "Yc74bJjbDN_c",
        "outputId": "0ea1f9ec-bd30-4357-8bd4-d8c35bb73812"
      },
      "execution_count": 72,
      "outputs": [
        {
          "output_type": "display_data",
          "data": {
            "text/plain": [
              "<Figure size 432x288 with 9 Axes>"
            ],
            "image/png": "[encoded data removed]"
          },
          "metadata": {
            "needs_background": "light"
          }
        }
      ]
    },
    {
      "cell_type": "code",
      "source": [
        "from sklearn.metrics import classification_report\n",
        "target_names = [\"Class {}\".format(i) for i in range(num_classes)]\n",
        "print(classification_report(y_test, predicted_classes, target_names=target_names))"
      ],
      "metadata": {
        "colab": {
          "base_uri": "https://localhost:8080/"
        },
        "id": "H-RLt6UGDZU4",
        "outputId": "517bc133-c518-4b8e-94c7-92e02d203ca5"
      },
      "execution_count": 74,
      "outputs": [
        {
          "output_type": "stream",
          "name": "stdout",
          "text": [
            "              precision    recall  f1-score   support\n",
            "\n",
            "     Class 0       0.80      0.90      0.85      1000\n",
            "     Class 1       1.00      0.98      0.99      1000\n",
            "     Class 2       0.88      0.88      0.88      1000\n",
            "     Class 3       0.91      0.94      0.93      1000\n",
            "     Class 4       0.91      0.81      0.86      1000\n",
            "     Class 5       0.99      0.98      0.99      1000\n",
            "     Class 6       0.78      0.77      0.77      1000\n",
            "     Class 7       0.96      0.98      0.97      1000\n",
            "     Class 8       0.99      0.99      0.99      1000\n",
            "     Class 9       0.98      0.96      0.97      1000\n",
            "\n",
            "    accuracy                           0.92     10000\n",
            "   macro avg       0.92      0.92      0.92     10000\n",
            "weighted avg       0.92      0.92      0.92     10000\n",
            "\n"
          ]
        }
      ]
    },
    {
      "cell_type": "code",
      "source": [
        ""
      ],
      "metadata": {
        "id": "mYWffRIvEH_b"
      },
      "execution_count": null,
      "outputs": []
    }
  ]
}