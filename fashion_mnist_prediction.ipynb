{
  "nbformat": 4,
  "nbformat_minor": 0,
  "metadata": {
    "colab": {
      "name": "fashion_mnist prediction",
      "provenance": [],
      "collapsed_sections": [],
      "authorship_tag": "ABX9TyMSXqaaj0UysioPY2zwB805",
      "include_colab_link": true
    },
    "kernelspec": {
      "name": "python3",
      "display_name": "Python 3"
    },
    "language_info": {
      "name": "python"
    }
  },
  "cells": [
    {
      "cell_type": "markdown",
      "metadata": {
        "id": "view-in-github",
        "colab_type": "text"
      },
      "source": [
        "<a href=\"https://colab.research.google.com/github/Perception12/fashion_mnist_prediction/blob/main/fashion_mnist_prediction.ipynb\" target=\"_parent\"><img src=\"https://colab.research.google.com/assets/colab-badge.svg\" alt=\"Open In Colab\"/></a>"
      ]
    },
    {
      "cell_type": "code",
      "execution_count": 122,
      "metadata": {
        "id": "IIz6r4d1ZWxl"
      },
      "outputs": [],
      "source": [
        "from keras.datasets import fashion_mnist"
      ]
    },
    {
      "cell_type": "code",
      "source": [
        "(X_train, y_train), (X_test, y_test) = fashion_mnist.load_data()"
      ],
      "metadata": {
        "id": "FLv-pzPyZfij"
      },
      "execution_count": 174,
      "outputs": []
    },
    {
      "cell_type": "code",
      "source": [
        "import numpy as np\n",
        "import matplotlib.pyplot as plt\n",
        "from tensorflow.keras.utils import to_categorical\n",
        "\n",
        "%matplotlib inline"
      ],
      "metadata": {
        "id": "a_iROWq7aLs4"
      },
      "execution_count": 176,
      "outputs": []
    },
    {
      "cell_type": "code",
      "source": [
        "print(X_train.shape)\n",
        "print(y_train.shape)"
      ],
      "metadata": {
        "colab": {
          "base_uri": "https://localhost:8080/"
        },
        "id": "JnR-mhXzad0J",
        "outputId": "b7b5acdf-4082-4acc-c274-f8cd669a1c10"
      },
      "execution_count": 175,
      "outputs": [
        {
          "output_type": "stream",
          "name": "stdout",
          "text": [
            "(60000, 28, 28)\n",
            "(60000,)\n"
          ]
        }
      ]
    },
    {
      "cell_type": "code",
      "source": [
        "print(X_test.shape)\n",
        "print(y_test.shape)"
      ],
      "metadata": {
        "colab": {
          "base_uri": "https://localhost:8080/"
        },
        "id": "9kKOdYFvent6",
        "outputId": "9cb944a0-8b59-4f87-d64e-f145f9ba06f6"
      },
      "execution_count": 177,
      "outputs": [
        {
          "output_type": "stream",
          "name": "stdout",
          "text": [
            "(10000, 28, 28)\n",
            "(10000,)\n"
          ]
        }
      ]
    },
    {
      "cell_type": "code",
      "source": [
        "classes = np.unique(y_train)\n",
        "nClasses = len(classes)\n",
        "\n",
        "print(\"Total number of outputs: {}\".format(nClasses))\n",
        "print(\"Output classes: {}\".format(classes))"
      ],
      "metadata": {
        "colab": {
          "base_uri": "https://localhost:8080/"
        },
        "id": "vsquZ-sqeyMA",
        "outputId": "860f8311-96cd-4abf-d55a-5f7e7c4f3d08"
      },
      "execution_count": 178,
      "outputs": [
        {
          "output_type": "stream",
          "name": "stdout",
          "text": [
            "Total number of outputs: 10\n",
            "Output classes: [0 1 2 3 4 5 6 7 8 9]\n"
          ]
        }
      ]
    },
    {
      "cell_type": "code",
      "source": [
        "plt.figure(figsize=(5,5))\n",
        "\n",
        "#Display first image in training data\n",
        "plt.subplot(1,2,1)\n",
        "plt.imshow(X_train[0,:,:], cmap='gray')\n",
        "plt.title(\"Ground Truth: {}\".format(y_train[0]))\n",
        "\n",
        "#Display the first image of test data\n",
        "plt.subplot(1,2,2)\n",
        "plt.imshow(X_test[0,:,:], cmap='gray')\n",
        "plt.title(\"Ground Truth: {}\".format(y_test[0]))"
      ],
      "metadata": {
        "colab": {
          "base_uri": "https://localhost:8080/",
          "height": 208
        },
        "id": "ZJPsoiakfnXT",
        "outputId": "b1a14fb3-9cc6-4017-e003-3aa27d87f6a2"
      },
      "execution_count": 179,
      "outputs": [
        {
          "output_type": "execute_result",
          "data": {
            "text/plain": [
              "Text(0.5, 1.0, 'Ground Truth: 9')"
            ]
          },
          "metadata": {},
          "execution_count": 179
        },
        {
          "output_type": "display_data",
          "data": {
            "text/plain": [
              "<Figure size 360x360 with 2 Axes>"
            ],
            "image/png": "[encoded data removed]"
          },
          "metadata": {
            "needs_background": "light"
          }
        }
      ]
    },
    {
      "cell_type": "code",
      "source": [
        "X_train = X_train.reshape(-1, 28, 28, 1)\n",
        "X_test = X_test.reshape(-1, 28, 28, 1)"
      ],
      "metadata": {
        "id": "TP03OIDfgoCo"
      },
      "execution_count": 180,
      "outputs": []
    },
    {
      "cell_type": "code",
      "source": [
        "print(X_train.shape)\n",
        "print(X_test.shape)"
      ],
      "metadata": {
        "colab": {
          "base_uri": "https://localhost:8080/"
        },
        "id": "mWh9xhath0vx",
        "outputId": "c44f5709-46c6-4d07-ab12-f2c56623d7bd"
      },
      "execution_count": 181,
      "outputs": [
        {
          "output_type": "stream",
          "name": "stdout",
          "text": [
            "(60000, 28, 28, 1)\n",
            "(10000, 28, 28, 1)\n"
          ]
        }
      ]
    },
    {
      "cell_type": "code",
      "source": [
        "X_train = X_train.astype('float32')\n",
        "X_test = X_test.astype('float32')\n",
        "X_train = X_train / 255\n",
        "X_test = X_test / 255"
      ],
      "metadata": {
        "id": "PSt3mk0Ch8Le"
      },
      "execution_count": 182,
      "outputs": []
    },
    {
      "cell_type": "code",
      "source": [
        "# one-hot encoding of labels\n",
        "y_train_one_hot = to_categorical(y_train)\n",
        "y_test_one_hot = to_categorical(y_test)"
      ],
      "metadata": {
        "id": "OJMiK-G1iaG4"
      },
      "execution_count": 183,
      "outputs": []
    },
    {
      "cell_type": "code",
      "source": [
        "print(\"Original label: {}\".format(y_train[0]))\n",
        "print(\"Encoded label: {}\".format(y_train_one_hot[0]))"
      ],
      "metadata": {
        "colab": {
          "base_uri": "https://localhost:8080/"
        },
        "id": "FFXtwG_VjQ0b",
        "outputId": "46ec04fb-0f52-4013-d190-f46580fd7535"
      },
      "execution_count": 184,
      "outputs": [
        {
          "output_type": "stream",
          "name": "stdout",
          "text": [
            "Original label: 9\n",
            "Encoded label: [0. 0. 0. 0. 0. 0. 0. 0. 0. 1.]\n"
          ]
        }
      ]
    },
    {
      "cell_type": "code",
      "source": [
        "from sklearn.model_selection import train_test_split"
      ],
      "metadata": {
        "id": "5Mdb7pnPkKs6"
      },
      "execution_count": 185,
      "outputs": []
    },
    {
      "cell_type": "code",
      "source": [
        "X_train, X_val, label_train, label_val = train_test_split(X_train, y_train_one_hot, test_size=0.2, random_state=101)"
      ],
      "metadata": {
        "id": "2qcxO2Vtjwr5"
      },
      "execution_count": 186,
      "outputs": []
    },
    {
      "cell_type": "code",
      "source": [
        "X_train.shape, X_val.shape, label_train.shape, label_val.shape"
      ],
      "metadata": {
        "colab": {
          "base_uri": "https://localhost:8080/"
        },
        "id": "YB9-r1dMkfI3",
        "outputId": "476cfcab-22fa-4df2-86f2-d93b5a2b465a"
      },
      "execution_count": 187,
      "outputs": [
        {
          "output_type": "execute_result",
          "data": {
            "text/plain": [
              "((48000, 28, 28, 1), (12000, 28, 28, 1), (48000, 10), (12000, 10))"
            ]
          },
          "metadata": {},
          "execution_count": 187
        }
      ]
    },
    {
      "cell_type": "code",
      "source": [
        "import keras\n",
        "from keras.models import Sequential, Input, Model\n",
        "from keras.layers import Dense, Flatten, Dropout\n",
        "from keras.layers import Conv2D, MaxPooling2D\n",
        "from keras.layers.normalization import batch_normalization\n",
        "from keras.layers.advanced_activations import LeakyReLU"
      ],
      "metadata": {
        "id": "QPpKIlbwkmBR"
      },
      "execution_count": 188,
      "outputs": []
    },
    {
      "cell_type": "code",
      "source": [
        "batch_size = 64\n",
        "epochs = 20\n",
        "num_classes = 10"
      ],
      "metadata": {
        "id": "hpBEUoWcmFo9"
      },
      "execution_count": 189,
      "outputs": []
    },
    {
      "cell_type": "code",
      "source": [
        "model = Sequential()\n",
        "\n",
        "model.add(Conv2D(32, kernel_size=(3,3), activation='linear', input_shape=(28, 28, 1), padding='same'))\n",
        "model.add(LeakyReLU(alpha=0.1))\n",
        "model.add(MaxPooling2D((2,2), padding='same'))\n",
        "model.add(Dropout(0.25))\n",
        "model.add(Conv2D(64, (3,3), activation='linear', padding='same'))\n",
        "model.add(LeakyReLU(alpha=0.1))\n",
        "model.add(MaxPooling2D((2,2), padding='same'))\n",
        "model.add(Dropout(0.25))\n",
        "model.add(Conv2D(128, (3,3), activation='linear', padding='same'))\n",
        "model.add(LeakyReLU(alpha=0.1))\n",
        "model.add(MaxPooling2D((2,2), padding='same'))\n",
        "model.add(Dropout(0.4))\n",
        "model.add(Flatten())\n",
        "model.add(Dense(128, activation='linear'))\n",
        "model.add(LeakyReLU(alpha=0.1))\n",
        "model.add(Dropout(0.3))\n",
        "\n",
        "model.add(Dense(num_classes, activation='softmax'))\n",
        "\n",
        "model.compile(loss=keras.losses.categorical_crossentropy, optimizer='adam', metrics=['accuracy'])"
      ],
      "metadata": {
        "id": "l4viMrqTmdeq"
      },
      "execution_count": 194,
      "outputs": []
    },
    {
      "cell_type": "code",
      "source": [
        "model.summary()"
      ],
      "metadata": {
        "colab": {
          "base_uri": "https://localhost:8080/"
        },
        "id": "NQu2upsqpI0O",
        "outputId": "31fb5720-e138-4812-ae9a-42f5fca31238"
      },
      "execution_count": 195,
      "outputs": [
        {
          "output_type": "stream",
          "name": "stdout",
          "text": [
            "Model: \"sequential_10\"\n",
            "_________________________________________________________________\n",
            " Layer (type)                Output Shape              Param #   \n",
            "=================================================================\n",
            " conv2d_27 (Conv2D)          (None, 28, 28, 32)        320       \n",
            "                                                                 \n",
            " leaky_re_lu_36 (LeakyReLU)  (None, 28, 28, 32)        0         \n",
            "                                                                 \n",
            " max_pooling2d_27 (MaxPoolin  (None, 14, 14, 32)       0         \n",
            " g2D)                                                            \n",
            "                                                                 \n",
            " dropout_20 (Dropout)        (None, 14, 14, 32)        0         \n",
            "                                                                 \n",
            " conv2d_28 (Conv2D)          (None, 14, 14, 64)        18496     \n",
            "                                                                 \n",
            " leaky_re_lu_37 (LeakyReLU)  (None, 14, 14, 64)        0         \n",
            "                                                                 \n",
            " max_pooling2d_28 (MaxPoolin  (None, 7, 7, 64)         0         \n",
            " g2D)                                                            \n",
            "                                                                 \n",
            " dropout_21 (Dropout)        (None, 7, 7, 64)          0         \n",
            "                                                                 \n",
            " conv2d_29 (Conv2D)          (None, 7, 7, 128)         73856     \n",
            "                                                                 \n",
            " leaky_re_lu_38 (LeakyReLU)  (None, 7, 7, 128)         0         \n",
            "                                                                 \n",
            " max_pooling2d_29 (MaxPoolin  (None, 4, 4, 128)        0         \n",
            " g2D)                                                            \n",
            "                                                                 \n",
            " dropout_22 (Dropout)        (None, 4, 4, 128)         0         \n",
            "                                                                 \n",
            " flatten_9 (Flatten)         (None, 2048)              0         \n",
            "                                                                 \n",
            " dense_18 (Dense)            (None, 128)               262272    \n",
            "                                                                 \n",
            " leaky_re_lu_39 (LeakyReLU)  (None, 128)               0         \n",
            "                                                                 \n",
            " dropout_23 (Dropout)        (None, 128)               0         \n",
            "                                                                 \n",
            " dense_19 (Dense)            (None, 10)                1290      \n",
            "                                                                 \n",
            "=================================================================\n",
            "Total params: 356,234\n",
            "Trainable params: 356,234\n",
            "Non-trainable params: 0\n",
            "_________________________________________________________________\n"
          ]
        }
      ]
    },
    {
      "cell_type": "code",
      "source": [
        "fashion_train = model.fit(X_train, label_train, batch_size=batch_size, epochs=epochs, validation_data=(X_val, label_val))"
      ],
      "metadata": {
        "colab": {
          "base_uri": "https://localhost:8080/"
        },
        "id": "tHBdpjy1p_8s",
        "outputId": "16d93b1c-a549-459f-e3ee-73f3fbef9373"
      },
      "execution_count": 196,
      "outputs": [
        {
          "output_type": "stream",
          "name": "stdout",
          "text": [
            "Train on 48000 samples, validate on 12000 samples\n",
            "Epoch 1/20\n",
            "48000/48000 [==============================] - ETA: 0s - loss: 0.6031 - accuracy: 0.7774"
          ]
        },
        {
          "output_type": "stream",
          "name": "stderr",
          "text": [
            "/usr/local/lib/python3.7/dist-packages/keras/engine/training_v1.py:2057: UserWarning: `Model.state_updates` will be removed in a future version. This property should not be used in TensorFlow 2.0, as `updates` are applied automatically.\n",
            "  updates = self.state_updates\n"
          ]
        },
        {
          "output_type": "stream",
          "name": "stdout",
          "text": [
            "\b\b\b\b\b\b\b\b\b\b\b\b\b\b\b\b\b\b\b\b\b\b\b\b\b\b\b\b\b\b\b\b\b\b\b\b\b\b\b\b\b\b\b\b\b\b\b\b\b\b\b\b\b\b\b\b\b\b\b\b\b\b\b\b\b\b\b\b\b\b\b\b\b\b\b\b\b\b\b\b\b\b\b\b\b\b\b\b\r48000/48000 [==============================] - 96s 2ms/sample - loss: 0.6031 - accuracy: 0.7774 - val_loss: 0.3620 - val_accuracy: 0.8667\n",
            "Epoch 2/20\n",
            "48000/48000 [==============================] - 95s 2ms/sample - loss: 0.3778 - accuracy: 0.8615 - val_loss: 0.2954 - val_accuracy: 0.8928\n",
            "Epoch 3/20\n",
            "48000/48000 [==============================] - 95s 2ms/sample - loss: 0.3277 - accuracy: 0.8801 - val_loss: 0.2687 - val_accuracy: 0.9003\n",
            "Epoch 4/20\n",
            "48000/48000 [==============================] - 95s 2ms/sample - loss: 0.3004 - accuracy: 0.8896 - val_loss: 0.2509 - val_accuracy: 0.9061\n",
            "Epoch 5/20\n",
            "48000/48000 [==============================] - 95s 2ms/sample - loss: 0.2830 - accuracy: 0.8939 - val_loss: 0.2428 - val_accuracy: 0.9121\n",
            "Epoch 6/20\n",
            "48000/48000 [==============================] - 95s 2ms/sample - loss: 0.2719 - accuracy: 0.8984 - val_loss: 0.2303 - val_accuracy: 0.9174\n",
            "Epoch 7/20\n",
            "48000/48000 [==============================] - 94s 2ms/sample - loss: 0.2573 - accuracy: 0.9049 - val_loss: 0.2330 - val_accuracy: 0.9118\n",
            "Epoch 8/20\n",
            "48000/48000 [==============================] - 94s 2ms/sample - loss: 0.2512 - accuracy: 0.9062 - val_loss: 0.2128 - val_accuracy: 0.9227\n",
            "Epoch 9/20\n",
            "48000/48000 [==============================] - 94s 2ms/sample - loss: 0.2420 - accuracy: 0.9097 - val_loss: 0.2128 - val_accuracy: 0.9208\n",
            "Epoch 10/20\n",
            "48000/48000 [==============================] - 94s 2ms/sample - loss: 0.2365 - accuracy: 0.9116 - val_loss: 0.2185 - val_accuracy: 0.9221\n",
            "Epoch 11/20\n",
            "48000/48000 [==============================] - 95s 2ms/sample - loss: 0.2289 - accuracy: 0.9145 - val_loss: 0.2114 - val_accuracy: 0.9222\n",
            "Epoch 12/20\n",
            "48000/48000 [==============================] - 95s 2ms/sample - loss: 0.2287 - accuracy: 0.9143 - val_loss: 0.2068 - val_accuracy: 0.9247\n",
            "Epoch 13/20\n",
            "48000/48000 [==============================] - 94s 2ms/sample - loss: 0.2210 - accuracy: 0.9174 - val_loss: 0.1996 - val_accuracy: 0.9283\n",
            "Epoch 14/20\n",
            "48000/48000 [==============================] - 94s 2ms/sample - loss: 0.2173 - accuracy: 0.9186 - val_loss: 0.2150 - val_accuracy: 0.9204\n",
            "Epoch 15/20\n",
            "48000/48000 [==============================] - 94s 2ms/sample - loss: 0.2130 - accuracy: 0.9196 - val_loss: 0.2067 - val_accuracy: 0.9240\n",
            "Epoch 16/20\n",
            "48000/48000 [==============================] - 94s 2ms/sample - loss: 0.2099 - accuracy: 0.9215 - val_loss: 0.1908 - val_accuracy: 0.9298\n",
            "Epoch 17/20\n",
            "48000/48000 [==============================] - 94s 2ms/sample - loss: 0.2044 - accuracy: 0.9229 - val_loss: 0.1915 - val_accuracy: 0.9298\n",
            "Epoch 18/20\n",
            "48000/48000 [==============================] - 95s 2ms/sample - loss: 0.2009 - accuracy: 0.9233 - val_loss: 0.1976 - val_accuracy: 0.9268\n",
            "Epoch 19/20\n",
            "48000/48000 [==============================] - 95s 2ms/sample - loss: 0.2036 - accuracy: 0.9228 - val_loss: 0.2411 - val_accuracy: 0.9088\n",
            "Epoch 20/20\n",
            "48000/48000 [==============================] - 94s 2ms/sample - loss: 0.1978 - accuracy: 0.9256 - val_loss: 0.1969 - val_accuracy: 0.9302\n"
          ]
        }
      ]
    },
    {
      "cell_type": "code",
      "source": [
        "model.save('fash_mnist.h5')"
      ],
      "metadata": {
        "id": "lZrWWly5cn9a"
      },
      "execution_count": 197,
      "outputs": []
    },
    {
      "cell_type": "code",
      "source": [
        "test_loss, test_accuracy = model.evaluate(X_test, y_test_one_hot, verbose=0)"
      ],
      "metadata": {
        "id": "K8sEmqF0voFq"
      },
      "execution_count": 198,
      "outputs": []
    },
    {
      "cell_type": "code",
      "source": [
        "print(\"Test Loss: \", test_loss)\n",
        "print(\"Test Accuracy: \", test_accuracy)"
      ],
      "metadata": {
        "colab": {
          "base_uri": "https://localhost:8080/"
        },
        "id": "ZxPmYIvr2rDb",
        "outputId": "72d49ca3-d291-494b-acbf-b5f0c4608fda"
      },
      "execution_count": 199,
      "outputs": [
        {
          "output_type": "stream",
          "name": "stdout",
          "text": [
            "Test Loss:  0.22510401805639266\n",
            "Test Accuracy:  0.9207\n"
          ]
        }
      ]
    },
    {
      "cell_type": "code",
      "source": [
        "accuracy = fashion_train.history['accuracy']\n",
        "val_accuracy = fashion_train.history['val_accuracy']\n",
        "loss = fashion_train.history['loss']\n",
        "val_loss = fashion_train.history['val_loss']\n",
        "epochs = range(len(accuracy))\n",
        "\n",
        "plt.plot(epochs, accuracy, 'b', label=\"Training Accuracy\")\n",
        "plt.plot(epochs, val_accuracy, 'r', label = \"Validation Accuracy\")\n",
        "plt.title(\"Training and Validation Accuracy\")\n",
        "plt.legend()\n",
        "\n",
        "plt.figure()\n",
        "\n",
        "plt.plot(epochs, loss, 'r', label=\"Training Loss\")\n",
        "plt.plot(epochs, val_loss, 'b', label=\"Validation Loss\")\n",
        "plt.title(\"Training and Validation Loss\")\n",
        "plt.legend()\n"
      ],
      "metadata": {
        "colab": {
          "base_uri": "https://localhost:8080/",
          "height": 562
        },
        "id": "8uFqON0L276i",
        "outputId": "9387f4f8-dc1f-43e2-c4f1-a0e7b613854e"
      },
      "execution_count": 200,
      "outputs": [
        {
          "output_type": "execute_result",
          "data": {
            "text/plain": [
              "<matplotlib.legend.Legend at 0x7f09c5634e10>"
            ]
          },
          "metadata": {},
          "execution_count": 200
        },
        {
          "output_type": "display_data",
          "data": {
            "text/plain": [
              "<Figure size 432x288 with 1 Axes>"
            ],
            "image/png": "[encoded data removed]"
          },
          "metadata": {
            "needs_background": "light"
          }
        },
        {
          "output_type": "display_data",
          "data": {
            "text/plain": [
              "<Figure size 432x288 with 1 Axes>"
            ],
            "image/png": "[encoded data removed]"
          },
          "metadata": {
            "needs_background": "light"
          }
        }
      ]
    },
    {
      "cell_type": "code",
      "source": [
        "predicted_classes = model.predict(X_test)"
      ],
      "metadata": {
        "id": "O3mId1Rh4IYa"
      },
      "execution_count": 203,
      "outputs": []
    },
    {
      "cell_type": "code",
      "source": [
        "predicted_classes = np.argmax(np.round(predicted_classes), axis=1)"
      ],
      "metadata": {
        "id": "DlxrnfekBRVV"
      },
      "execution_count": 205,
      "outputs": []
    },
    {
      "cell_type": "code",
      "source": [
        "predicted_classes.shape, y_test.shape"
      ],
      "metadata": {
        "colab": {
          "base_uri": "https://localhost:8080/"
        },
        "id": "PiP9YFMPBgsP",
        "outputId": "8589055d-857b-4851-f887-9a60dbe1d7c7"
      },
      "execution_count": 206,
      "outputs": [
        {
          "output_type": "execute_result",
          "data": {
            "text/plain": [
              "((10000,), (10000,))"
            ]
          },
          "metadata": {},
          "execution_count": 206
        }
      ]
    },
    {
      "cell_type": "code",
      "source": [
        "correct = np.where(predicted_classes == y_test)[0]\n",
        "print(\"Found {} correct labels\".format(len(correct)))"
      ],
      "metadata": {
        "colab": {
          "base_uri": "https://localhost:8080/"
        },
        "id": "6be0ha-cBlJc",
        "outputId": "ed27083e-6e60-4446-8e82-7fc6cc25261a"
      },
      "execution_count": 207,
      "outputs": [
        {
          "output_type": "stream",
          "name": "stdout",
          "text": [
            "Found 9182 correct labels\n"
          ]
        }
      ]
    },
    {
      "cell_type": "code",
      "source": [
        "for i, correct in enumerate(correct[:9]):\n",
        "  plt.subplot(3,3,i+1)\n",
        "  plt.imshow(X_test[correct].reshape(28,28), cmap='gray', interpolation='none')\n",
        "  plt.title(\"Predicted {}, class {}\".format(predicted_classes[correct], y_test[correct]))\n",
        "  plt.tight_layout()"
      ],
      "metadata": {
        "colab": {
          "base_uri": "https://localhost:8080/",
          "height": 297
        },
        "id": "wZSZ37zUB0OP",
        "outputId": "b342f4cd-1dbb-40cf-a520-c5ee6c6e42e8"
      },
      "execution_count": 208,
      "outputs": [
        {
          "output_type": "display_data",
          "data": {
            "text/plain": [
              "<Figure size 432x288 with 9 Axes>"
            ],
            "image/png": "[encoded data removed]"
          },
          "metadata": {
            "needs_background": "light"
          }
        }
      ]
    },
    {
      "cell_type": "code",
      "source": [
        "incorrect = np.where(predicted_classes != y_test)[0]\n",
        "print(\"Found {} incorrect labels\".format(len(incorrect)))"
      ],
      "metadata": {
        "colab": {
          "base_uri": "https://localhost:8080/"
        },
        "id": "NU5KO9WsC5IW",
        "outputId": "5a1400ba-ee98-4e9c-f43f-90dcb7ad9d92"
      },
      "execution_count": 209,
      "outputs": [
        {
          "output_type": "stream",
          "name": "stdout",
          "text": [
            "Found 818 incorrect labels\n"
          ]
        }
      ]
    },
    {
      "cell_type": "code",
      "source": [
        "for i, incorrect in enumerate(incorrect[:9]):\n",
        "  plt.subplot(3,3,i+1)\n",
        "  plt.imshow(X_test[incorrect].reshape(28,28), cmap='gray', interpolation='none')\n",
        "  plt.title(\"Predicted {}, class {}\".format(predicted_classes[incorrect], y_test[incorrect]))\n",
        "  plt.tight_layout()"
      ],
      "metadata": {
        "colab": {
          "base_uri": "https://localhost:8080/",
          "height": 297
        },
        "id": "Yc74bJjbDN_c",
        "outputId": "5e0b12a0-de51-45a8-badc-76077ffeb67d"
      },
      "execution_count": 210,
      "outputs": [
        {
          "output_type": "display_data",
          "data": {
            "text/plain": [
              "<Figure size 432x288 with 9 Axes>"
            ],
            "image/png": "[encoded data removed]"
          },
          "metadata": {
            "needs_background": "light"
          }
        }
      ]
    },
    {
      "cell_type": "code",
      "source": [
        "from sklearn.metrics import classification_report\n",
        "target_names = [\"Class {}\".format(i) for i in range(num_classes)]\n",
        "print(classification_report(y_test, predicted_classes, target_names=target_names))"
      ],
      "metadata": {
        "colab": {
          "base_uri": "https://localhost:8080/"
        },
        "id": "H-RLt6UGDZU4",
        "outputId": "fef9042f-ccd8-4f02-953e-c52f8cc24743"
      },
      "execution_count": 211,
      "outputs": [
        {
          "output_type": "stream",
          "name": "stdout",
          "text": [
            "              precision    recall  f1-score   support\n",
            "\n",
            "     Class 0       0.78      0.92      0.84      1000\n",
            "     Class 1       1.00      0.98      0.99      1000\n",
            "     Class 2       0.87      0.89      0.88      1000\n",
            "     Class 3       0.93      0.93      0.93      1000\n",
            "     Class 4       0.88      0.86      0.87      1000\n",
            "     Class 5       0.99      0.97      0.98      1000\n",
            "     Class 6       0.83      0.70      0.76      1000\n",
            "     Class 7       0.95      0.98      0.97      1000\n",
            "     Class 8       0.99      0.98      0.99      1000\n",
            "     Class 9       0.97      0.97      0.97      1000\n",
            "\n",
            "    accuracy                           0.92     10000\n",
            "   macro avg       0.92      0.92      0.92     10000\n",
            "weighted avg       0.92      0.92      0.92     10000\n",
            "\n"
          ]
        }
      ]
    },
    {
      "cell_type": "code",
      "source": [
        "# from keract import display_activations, get_activations, display_heatmaps"
      ],
      "metadata": {
        "id": "5qi8g0PWOGp_"
      },
      "execution_count": 90,
      "outputs": []
    },
    {
      "cell_type": "code",
      "source": [
        "# img = X_test[0].reshape(1, 28, 28, 1)\n",
        "# activations = get_activations(model, img)\n",
        "# display_activations(activations)\n"
      ],
      "metadata": {
        "id": "awSMn3RjOrQz"
      },
      "execution_count": 91,
      "outputs": []
    },
    {
      "cell_type": "code",
      "source": [
        "# from tensorflow.keras.utils import plot_model\n",
        "# plot_model(model)"
      ],
      "metadata": {
        "id": "Cxw4GljfQNyB"
      },
      "execution_count": 120,
      "outputs": []
    },
    {
      "cell_type": "code",
      "source": [
        "# retriever = model.output[:, np.argmax(predicted_classes[0])]"
      ],
      "metadata": {
        "id": "2v-FLhjzVFo8"
      },
      "execution_count": 217,
      "outputs": []
    },
    {
      "cell_type": "code",
      "source": [
        ""
      ],
      "metadata": {
        "id": "0tZREws7Vsgf"
      },
      "execution_count": 217,
      "outputs": []
    },
    {
      "cell_type": "code",
      "source": [
        "import cv2\n",
        "from keras import backend as K\n",
        "\n",
        "def get_heatmap(img):\n",
        "  x = img\n",
        "  pred = model.predict(x)\n",
        "  class_idx = np.argmax(pred)\n",
        "  class_output = model.output[:, class_idx]\n",
        "  last_conv_layer = model.layers[15]\n",
        "  grads = K.gradients(class_output, last_conv_layer.output)[0]\n",
        "\n",
        "  pooled_grads = K.mean(grads, axis=(0, 1, 2))    \n",
        "  iterate = K.function([model.inputs], [pooled_grads, last_conv_layer.output[0]]) \n",
        "  pooled_grads_value, conv_layer_output_value = iterate([x])   \n",
        "  conv_layer_output_value[-1, -1, :] *= pooled_grads_value\n",
        "\n",
        "  heatmap = np.mean(conv_layer_output_value, axis=-1)\n",
        "  heatmap = np.maximum(heatmap, 0)\n",
        "  heatmap /= np.max(heatmap)\n",
        "  heatmap = cv2.resize(heatmap, (img.shape[1], img.shape[2]))\n",
        "  heatmap = np.uint8(255 * heatmap)\n",
        "  heatmap = cv2.applyColorMap(heatmap, cv2.COLORMAP_JET)\n",
        "  heatmap.shape\n",
        "  x = x.reshape((28, 28))\n",
        "  x=cv2.cvtColor(x.astype('uint8'), cv2.COLOR_GRAY2RGB)\n",
        "  superimposed_img = cv2.addWeighted(x, 0.6, heatmap, 0.4, 0)\n",
        "\n",
        "  return superimposed_img, heatmap"
      ],
      "metadata": {
        "id": "xJWQpDK8Wavm"
      },
      "execution_count": 224,
      "outputs": []
    },
    {
      "cell_type": "code",
      "source": [
        "# image, heatmap = get_heatmap(X_test[5].reshape(1, 28, 28, 1))"
      ],
      "metadata": {
        "id": "bTZJJ3q4YTPs"
      },
      "execution_count": 229,
      "outputs": []
    },
    {
      "cell_type": "code",
      "source": [
        ""
      ],
      "metadata": {
        "id": "oULBhch3b0_w"
      },
      "execution_count": null,
      "outputs": []
    }
  ]
}